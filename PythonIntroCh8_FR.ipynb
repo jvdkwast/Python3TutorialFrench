{
 "cells": [
  {
   "cell_type": "markdown",
   "metadata": {},
   "source": [
    "< [Classes](PythonIntroCh7_FR.ipynb) | [Contents](PythonIntro_FR.ipynb) | [Fichier I/O](PythonIntroCh9_FR.ipynb) >"
   ]
  },
  {
   "cell_type": "markdown",
   "metadata": {},
   "source": [
    "# 8 Modules\n",
    "## 8.1 Introduction\n",
    "Dernière leçon, nous avons couvert le sujet tueur de Classes. Comme vous pouvez vous en souvenir, les classes sont des combinaisons soignées de variables et de fonctions dans un paquet agréable et soigné. Le jargon de programmation appelle cette fonction ‘encapsulation’, mais quel que soit son nom, c’est une fonctionnalité vraiment intéressante pour garder les choses ensemble afin que le code puisse être utilisé dans de nombreux cas dans de nombreux endroits. Bien sûr, vous devez vous demander: « Comment puis-je amener mes classes à de nombreux endroits, dans de nombreux programmes? ». La réponse est de les mettre dans un module, pour les importer dans d’autres programmes."
   ]
  },
  {
   "cell_type": "markdown",
   "metadata": {},
   "source": [
    "## 8.2 Module? Qu'est-ce qu'un Module?\n",
    "Un module est un fichier Python qui (généralement) n’a que des définitions de variables, fonctions et classes. Par exemple, un module peut ressembler à ceci, que nous stockons dans un fichier `moduletest.py`:\n",
    "```Python\n",
    "### EXEMPLE MODULE DE PYTHON \n",
    "# Définis quelques variables:\n",
    "numberone = 1\n",
    "ageofqueen = 78\n",
    "\n",
    "# définis quelques fonctions\n",
    "def printhello():\n",
    "    print(\"hello\")\n",
    "    \n",
    "def timesfour(input):\n",
    "    print(eval(input) * 4)\n",
    "    \n",
    "# définis une classe\n",
    "class Piano:\n",
    "    def __init__(self):\n",
    "        self.type = input(\"Quel type de piano? \")\n",
    "        self.height = input(\"Quelle hauteur (en pieds)? \")\n",
    "        self.price = input(\"Combien cela a-t-il coûté? \")\n",
    "        self.age = input(\"Quel âge a-t-il (en années)? \")\n",
    "\t\n",
    "    def printdetails(self):\n",
    "        print(\"Ce piano est un \" + self.height + \" pied\", end=\" \")\n",
    "        print(self.type, \"piano, \" + self.age, \"années et coût\\\n",
    " \" + self.price + \" dollars.\")\n",
    "```\n",
    "\n",
    "Comme vous le voyez, un module ressemble à peu près à votre programme Python normal.\n",
    "\n",
    "Ainsi qu'est-ce que nous faisons avec un module? nous importons `import` un peu de cela (ou le tout) dans d'autres programmes.\n",
    "\n",
    "Pour importer toutes les variables, fonctions et classes de `moduletest.py` dans un autre programme que vous écrivez, nous utilisons l'opérateur `import` . Par exemple, pour importer `moduletest.py` dans votre programme principal (`mainprogram.py`), vous aurez ceci:\n",
    "\n",
    "```Python\n",
    "### mainprogam.py\n",
    "### IMPORTER UN AUTRE MODULE\n",
    "import moduletest\n",
    "```\n",
    "\n",
    "Cela suppose que le module se trouve dans le même répertoire que `mainprogram.py`, ou est un module par défaut fourni avec Python. Vous omettez le `.py` à la fin du nom de fichier - il est ignoré. Vous placez normalement toutes les instructions `import` au début du fichier Python, mais techniquement, elles peuvent être n’importe où. Pour utiliser les éléments du module dans votre programme principal, vous utilisez les éléments suivants :\n",
    "\n",
    "```Python\n",
    "### UTILISATION D'UN MODULE IMPORTÉ\n",
    "# Utilise la forme modulename.itemname\n",
    "# Exemples:\n",
    "print(moduletest.ageofqueen)\n",
    "cfcpiano = moduletest.Piano()\n",
    "cfcpiano.printdetails()\n",
    "```\n",
    "\n",
    "Comme vous le voyez, les modules que vous importez agissent très bien comme les classes que nous avons regardées dans la dernière leçon - tout ce qui les contient doit être précédé de `modulename.` pour que cela fonctionne."
   ]
  },
  {
   "cell_type": "markdown",
   "metadata": {},
   "source": [
    "## 8.3 Plus de module thingummyjigs (en manque d’un meilleur titre)\n",
    "Souhaitez-vous pouvoir vous débarrasser de la partie `modulename.` que vous devez mettre avant chaque élément que vous utilisez à partir d’un module? Non? jamais? Eh bien, je vais vous l’enseigner de toute façon.\n",
    "\n",
    "Une façon d’éviter ces tracas est d’importer uniquement les objets souhaités à partir du module. Pour ce faire, vous utilisez l’opérateur `from`. Vous l’utilisez sous la forme de `from modulename import itemname`. Voici un exemple :\n",
    "\n",
    "```Python\n",
    "### IMPORTER DES ÉLÉMENTS DIRECTEMENT DANS VOTRE PROGRAMME\n",
    "\n",
    "# importer les\n",
    "from moduletest import ageofqueen\n",
    "from moduletest import printhello\n",
    "\n",
    "# maintenant essaye de les utiliser \n",
    "print(ageofqueen)\n",
    "printhello()\n",
    "```\n",
    "\n",
    "À quoi cela sert-il? Eh bien, peut-être que vous pourriez l’utiliser pour rendre votre code un peu plus lisible. Si nous entrons dans des tas de modules à l’intérieur des modules, cela pourrait également supprimer cette couche supplémentaire de crypticité.\n",
    "\n",
    " Si vous le souhaitez, vous pouvez tout importer d’un module de cette manière en utilisant `from modulename import *`. Bien sûr, cela peut être gênant s’il y a des objets dans votre programme portant le même nom que certains éléments du module. Avec de grands modules, cela peut facilement se produire et peut causer de nombreux maux de tête. Une meilleure façon de le faire serait d’importer un module de la manière normale (sans l’opérateur `from`), puis d’affecter des éléments à un nom local : \n",
    "\n",
    "\n",
    "```Python\n",
    "### AFFECTATION D’ÉLÉMENTS À UN NOM LOCAL\n",
    "\n",
    "# Affectation à un nom local\n",
    "timesfour = moduletest.timesfour\n",
    "\n",
    "# Utilisation du nom local\n",
    "print(timesfour(565))\n",
    "```\n",
    "\n",
    "De cette façon, vous pouvez supprimer une certaine crypticité ET avoir tous les éléments d’un certain module.\n",
    "\n",
    "## 8.4 Conclusion\n",
    "Voilà! Une leçon très simple, mais maintenant vous pouvez organiser vos programmes très soigneusement. En fait, il est maintenant incroyablement facile de créer des programmes qui peuvent devenir plus complexes sans se retrouver avec un fichier cryptique plein de bugs. \n",
    "Les modules sont parfaits pour importer du code. La leçon suivante, nous en apprenons davantage sur l’entrée et la sortie de fichiers, ainsi que sur l’enregistrement d’informations à l’intérieur des classes, à récupérer ultérieurement. Ce sera génial!"
   ]
  },
  {
   "cell_type": "markdown",
   "metadata": {},
   "source": [
    "< [Classes](PythonIntroCh7_FR.ipynb) | [Contents](PythonIntro_FR.ipynb) | [Fichier I/O](PythonIntroCh9_FR.ipynb) >"
   ]
  }
 ],
 "metadata": {
  "kernelspec": {
   "display_name": "Python 3",
   "language": "python",
   "name": "python3"
  },
  "language_info": {
   "codemirror_mode": {
    "name": "ipython",
    "version": 3
   },
   "file_extension": ".py",
   "mimetype": "text/x-python",
   "name": "python",
   "nbconvert_exporter": "python",
   "pygments_lexer": "ipython3",
   "version": "3.6.5"
  }
 },
 "nbformat": 4,
 "nbformat_minor": 2
}
