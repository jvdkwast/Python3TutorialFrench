{
 "cells": [
  {
   "cell_type": "markdown",
   "metadata": {},
   "source": [
    "< [boucles, boucles, boucles, boucles...](PythonIntroCh3_FR.ipynb) | [Contents](PythonIntro_FR.ipynb) | [Tuples, Listes, et Dictionnaires](PythonIntroCh5_FR.ipynb) >"
   ]
  },
  {
   "cell_type": "markdown",
   "metadata": {},
   "source": [
    "# 4. Fonctions\n",
    "## 4.1 Introduction\n",
    "Dans la dernière leçon, j'ai dit que nous allions plonger dans la programmation ciblée. Cela implique des entrées de l'utilisateur, les entrée de l'utilisateur nécessitent une chose appelée fonctions.\n",
    "\n",
    "Que sont les fonctions ? En fait, les fonctions sont de petits programmes autonomes qui effectuent une tâche spécifique et que vous pouvez incorporer dans vos propres programmes plus importants. Une fois que vous avez créé une fonction, vous pouvez l'utiliser à tout moment et en tout lieu. Cela vous évite de devoir répéter à l'ordinateur ce qu'il doit faire à chaque fois qu'il effectue une tâche courante, par exemple demander à l'utilisateur de saisir quelque chose dans le champ.\n",
    "\n",
    "## 4.2 Utilisation d'une Fonction\n",
    "Python dispose d'un grand nombre de fonctions prêtes à l'emploi, que vous pouvez utiliser dès maintenant, simplement en les \"appelant\". L'appel d'une fonction implique que vous lui donniez une entrée et qu'elle renvoie une valeur (comme le ferait une variable) en sortie. Vous ne comprenez pas ? Voici la forme générale que prend l'appel d'une fonction:<br>\n",
    "`nom_de_fonction(paramètres)`\n",
    "\n",
    "Voyez-vous? Facile.\n",
    "\n",
    "- `nom_de_fonction` identifie la fonction que vous voulez utiliser (On s'en doute...). Par exemple, la fonction `entrées_brutes` (raw_input), qui sera la première fonction que nous allons utiliser.\n",
    "- Les`Paramètres` sont les valeurs que vous passez à la fonction pour lui dire ce qu'elle doit faire, et comment le faire... par exemple, si une fonction multiplie un nombre donné par cinq, les choses dans les paramètres indiquent à la fonction quel nombre elle doit multiplier par cinq. Mettez le nombre 70 dans les paramètres, et la fonction fera 70 x 5."
   ]
  },
  {
   "cell_type": "markdown",
   "metadata": {},
   "source": [
    "## 4.3 Paramètres et valeurs de retour - Communiquer avec les fonctions\n",
    "C'est bien beau que le programme puisse multiplier un nombre par cinq, mais qu'est-ce qu'il a à présenter ? Une sensation de bien- être ? Votre programme a besoin de voir les résultats de ce qui s'est passé, de voir ce que vaut 70 x 5, ou de voir s'il y a un problème quelque part (comme si vous lui aviez donné une lettre au lieu d'un chiffre). Alors, comment une fonction peut-elle montrer ce qu'elle fait?\n",
    "\n",
    "En fait, lorsqu'un ordinateur exécute une fonction, il ne voit pas le nom de la fonction, mais le résultat de ce que la fonction a fait. Les variables font exactement la même chose - l'ordinateur ne voit pas le nom de la variable, il voit la valeur qu'elle contient. Appelons ce programme qui multiplie un nombre quelconque par cinq, `multiply()`. Vous mettez le nombre que vous voulez multiplier entre parenthèses. Donc si vous tapez ceci:\n",
    "\n",
    "`a = multiply(70)`\n",
    "\n",
    "L'ordinateur verrait en fait ceci :\n",
    "\n",
    "`a = 350`\n",
    "\n",
    "Remarque : ne prenez pas la peine de taper ce code - `multiply()` n'est pas une vraie fonction, à moins que vous ne la créiez.\n",
    "\n",
    "La fonction s'exécute elle-même, puis renvoie un nombre au programme principal, en fonction des paramètres qui lui ont été donnés.\n",
    "\n",
    "Essayons maintenant avec une vraie fonction, et voyons ce qu'elle fait. La fonction s'appelle `input`, et demande à l'utilisateur de taper quelque chose. Elle le transforme ensuite en une chaîne de texte. Essayez le code ci-dessous:"
   ]
  },
  {
   "cell_type": "code",
   "execution_count": null,
   "metadata": {},
   "outputs": [],
   "source": [
    "# cette ligne rend 'a' égal à tout ce que vous tapez\n",
    "a = input(\"Tapez quelque chose, et cela sera repété à l'écran : \")\n",
    "# Cette ligne affiche la valeur de 'a'\n",
    "print(a)"
   ]
  },
  {
   "cell_type": "markdown",
   "metadata": {},
   "source": [
    "Imaginons que dans le programme ci-dessus, vous ayez tapé `bonjour` lorsqu'il vous a demandé de taper quelque chose. Pour l'ordinateur, ce programme ressemblerait à ceci:\n",
    "\n",
    "```Python\n",
    "a = \"bonjour\"\n",
    "print(\"bonjour\")\n",
    "```"
   ]
  },
  {
   "cell_type": "markdown",
   "metadata": {},
   "source": [
    "Rappelez-vous, une variable est juste une valeur stockée. Pour l'ordinateur, la variable `a` ne ressemble pas à `a` - elle ressemble à la valeur qui est stockée en elle. Les fonctions sont similaires - pour le programme principal (c'est-à-dire le programme qui exécute la fonction), elles ressemblent à la valeur de ce qu'elles donnent en retour de leur exécution."
   ]
  },
  {
   "cell_type": "markdown",
   "metadata": {},
   "source": [
    "## 4.4 Programme de calcul\n",
    "Écrivons un autre programme, qui fera office de calculatrice. Cette fois, il fera quelque chose de plus aventureux que ce que nous avons fait auparavant. Il y aura un menu, qui vous demandera si vous voulez multiplier deux nombres, additionner deux nombres, diviser un nombre par un autre, ou soustraire un nombre d'un autre. Seul problème - la fonction `input` renvoie ce que vous tapez sous forme de chaîne de caractères - nous voulons le chiffre 1, pas la lettre 1 (et oui, en Python, il y a une différence).\n",
    "\n",
    "Heureusement, quelqu'un a écrit la fonction `eval`, qui renvoie ce que vous avez tapé, au programme principal - mais cette fois, elle le met sous forme de nombre. Si vous tapez un entier (un nombre entier), ce qui sort de l'entrée est un entier. Et si vous mettez ce nombre entier dans une variable, la variable sera une variable de type entier, ce qui signifie que vous pouvez ajouter et soustraire, etc."
   ]
  },
  {
   "cell_type": "code",
   "execution_count": null,
   "metadata": {},
   "outputs": [],
   "source": [
    "# Cette ligne rend 'a' égal à la valeur que vous tapez. Elle n'accepte pas les chaînes de caractères (lettres)\n",
    "a = eval(input(\"Tapez quelque chose, et cela sera repété à l'écran : \"))\n",
    "# Cette ligne affiche la valeur de'a'\n",
    "print(a)"
   ]
  },
  {
   "cell_type": "markdown",
   "metadata": {},
   "source": [
    "Maintenant, concevons cette calculatrice correctement. Nous voulons un menu qui revienne à chaque fois que vous avez fini d'ajouter, de soustraire, etc. En d'autres termes, de faire une boucle (INDICE !!!) tant que-while (GROS INDICE !!!) vous lui dites que le programme doit continuer à s'exécuter.\n",
    "Nous voulons qu'il fasse une option dans le menu si vous tapez le nombre correspondant. Cela implique que vous tapiez un nombre (donc une entrée ou input) et une boucle`if`.<br>\n",
    "Écrivons-le d'abord en français compréhensible (pseudocode):\n",
    "\n",
    "```\n",
    "DÉMARRER LE PROGRAMME\n",
    "afficher le message d'ouverture\n",
    "\n",
    "pendant que nous laissons le programme s'exécuter, fare ceci:\n",
    "    #afficher les options que vous avez\n",
    "    afficher Option 1 - additionner\n",
    "    afficher Option 2 - soustraire\n",
    "    afficher Option 3 - multiplier\n",
    "    afficher Option 4 - diviser\n",
    "    afficher Option 5 - quitter le programme\n",
    "\n",
    "    demander quelle est l'option souhaitée\n",
    "    si c'est l'option 1 :\n",
    "        demander le premier nombre\n",
    "        demander le deuxième nombre\n",
    "        les additionner\n",
    "        afficher le résultat à l'écran\n",
    "    si c'est l'option 2:\n",
    "        demander le premier nombre\n",
    "        demander le deuxième nombre\n",
    "        soustraire l'un de l'autre\n",
    "        afficher le résultat à l'écran\n",
    "    si c'est l'option 3:\n",
    "        demander le premier nombre\n",
    "        demander le deuxième nombre\n",
    "        multiplier!\n",
    "        afficher le résultat à l'écran\n",
    "    si c'est l'option 4:\n",
    "        demander le premier nombre\n",
    "        demander le deuxième nombre\n",
    "        diviser l'un par l'autre\n",
    "        afficher le résultat à l'écran\n",
    "    si c'est l'option 5:\n",
    "        demander à la boucle d'arrêter de tourner (en boucle)\n",
    "Afficher à l'écran un message d'au revoir\n",
    "TERMINER LE PROGRAMME\n",
    "```\n",
    "Exprimons cela en quelque chose que Python peut comprendre:"
   ]
  },
  {
   "cell_type": "code",
   "execution_count": null,
   "metadata": {},
   "outputs": [],
   "source": [
    "#programme de calcul\n",
    "\n",
    "#Cette variable (loop) indique à la boucle si elle doit tourner ou pas.\n",
    "#1 signifie tourner en boucle. Toute autre valeur signifie qu'il ne faut pas tourner en boucle.\n",
    "\n",
    "loop = 1\n",
    "\n",
    "#Cette variable contient le choix (choice) de l'utilisateur dans le menu:\n",
    "\n",
    "choice = 0 \n",
    "\n",
    "while loop == 1:\n",
    "    #Affiche les options que vous avez\n",
    "    print(\"Bienvenue dans calculator.py\")\n",
    "\n",
    "    print(\"vos options sont:\")\n",
    "    print(\" \")\n",
    "    print(\"1. Addition\")\n",
    "    print(\"2. Soustraction\")\n",
    "    print(\"3. Multiplication\")\n",
    "    print(\"4. Division\")\n",
    "    print(\"5. Quitter calculator.py\")\n",
    "    print(\" \")\n",
    "\n",
    "    choice = eval(input(\"Choisissez votre option: \"))\n",
    "    if choice == 1:\n",
    "        add1 = eval(input(\"Additionner ceci: \"))\n",
    "        add2 = eval(input(\"à cela: \"))\n",
    "        print(add1, \"+\", add2, \"=\", add1 + add2)\n",
    "    elif choice == 2:\n",
    "        sub2 = eval(input(\"Soustriare ceci: \"))\n",
    "        sub1 = eval(input(\"de cela: \"))\n",
    "        print(sub1, \"-\", sub2, \"=\", sub1 - sub2)\n",
    "    elif choice == 3:\n",
    "        mul1 = eval(input(\"Multiplier ceci: \"))\n",
    "        mul2 = eval(input(\"par cela: \"))\n",
    "        print(mul1, \"*\", mul2, \"=\", mul1 * mul2)\n",
    "    elif choice == 4:\n",
    "        div1 = eval(input(\"Diviser ceci: \"))\n",
    "        div2 = eval(input(\"par cela: \"))\n",
    "        print(div1, \"/\", div2, \"=\", div1 / div2)\n",
    "    elif choice == 5:\n",
    "        loop = 0\n",
    "        \n",
    "print(\"Merci d'avoir utilisé calculator.py!\")"
   ]
  },
  {
   "cell_type": "markdown",
   "metadata": {},
   "source": [
    "Jouez avec - essayez toutes les options, en entrant des nombres entiers (nombres sans décimale), et des nombres avec des éléments après la décimale (connus en programmation sous le nom de virgule flottante). Essayez de taper du texte, et voyez ce que fait le programme, une petite crise et arrête de fonctionner (cela peut être géré en utilisant la gestion des erreurs, que nous aborderons plus tard)."
   ]
  },
  {
   "cell_type": "markdown",
   "metadata": {},
   "source": [
    "## 4.5 Définir vos propres fonctions\n",
    "C'est bien beau d'utiliser les fonctions d'autres personnes, mais que faire si vous voulez écrire vos propres fonctions, pour gagner du temps, et peut-être les utiliser dans d'autres programmes ? C'est là que l'opérateure `def` entre en jeu. (Un opérateur est juste quelque chose qui indique à Python ce qu'il doit faire, par exemple l'opérateur `+` indique à Python d'ajouter des choses, l'opérateur `if` indique à Python de faire quelque chose si des conditions sont remplies.)\n",
    "\n",
    "Voici comment fonctionne l'opérateur `def`:\n",
    "\n",
    "```\n",
    "def nom_fonction(paramètre_1,paramètre_2):\n",
    "    {ceci est le code de la fonction}\n",
    "    {plus de code}\n",
    "    {plus de code}\n",
    "    return {valeur à retourner au programme principal}\n",
    "{cette partie du code n'est pas dans la fonction}\n",
    "{parce qu'il n'est pas indenté}\n",
    "#N'oubliez pas de mettre un deux-points  \":\" à la fin\n",
    "#de la ligne qui commence par 'def'\n",
    "```\n"
   ]
  },
  {
   "cell_type": "markdown",
   "metadata": {},
   "source": [
    "`nom_fonction` est le nom de la fonction. Vous écrivez le code qui se trouve dans la fonction en dessous de cette ligne, et vous l'indentez. (Nous nous soucierons de  `paramètre_1` et `paramètre_2` plus tard, pour l'instant imaginez qu'il n'y a rien entre les parenthèses.\n",
    "\n",
    "Les fonctions sont complètement indépendantes du programme principal. Vous vous souvenez quand j'ai dit que lorsque l'ordinateur arrive sur une fonction, il ne voit pas la fonction, mais une valeur, que la fonction renvoie ? Voici la citation:\n",
    "\n",
    "Pour l'ordinateur, la variable `a` ne ressemble pas à `a` - elle ressemble à la valeur qui est stockée en elle. Les fonctions sont similaires - pour le programme principal (c'est-à-dire le programme qui exécute la fonction), elles ressemblent à la valeur de ce qu'elles donnent en retour de leur exécution."
   ]
  },
  {
   "cell_type": "markdown",
   "metadata": {},
   "source": [
    "Une fonction est comme un programme miniature auquel on donne quelques paramètres - elle s'exécute ensuite elle-même, puis renvoie une valeur. Votre programme principal ne voit que la valeur renvoyée. Si cette fonction s'envolait vers la lune et revenait, et qu'à la fin elle avait:\n",
    "\n",
    "`return \"hello\"`\n",
    "\n",
    "alors tout ce que votre programme verrait serait la chaîne `\"hello\"`, là où se trouve le nom de la fonction. Il n'aurait aucune idée de ce que le programme a fait d'autre.\n",
    "\n",
    "Comme c'est un programme indépendant, une fonction ne voit aucune des variables qui sont dans votre programme principal, et votre programme principal ne voit aucune des variables qui sont dans une fonction. Par exemple, voici une fonction qui affiche le mot `\"hello\"` à l'écran, puis retourne le nombre `'1234'` au programme principal:"
   ]
  },
  {
   "cell_type": "code",
   "execution_count": null,
   "metadata": {},
   "outputs": [],
   "source": [
    "# Voici la fonction\n",
    "def hello():\n",
    "    print(\"hello\")\n",
    "    return 1234\n",
    "\n",
    "# Et voici la fonction qui est utilisée\n",
    "print(hello())"
   ]
  },
  {
   "cell_type": "markdown",
   "metadata": {},
   "source": [
    "Alors, que s'est-il passé?\n",
    "1.\tQuand `def hello()` a été exécuté, une fonction appelée `hello` a été créée\n",
    "2.\tQuand la ligne `print(hello())` a été exécutée, la fonction `hello` a été exécutée (le code qu'elle contient a été exécuté)\n",
    "3.\tLa fonction `hello` a affiché `\"hello\"` à l'écran, puis a renvoyé le nombre `1234` au programme principal\n",
    "4.\tLe programme principal voit maintenant la ligne comme `print(\"1234\")` et par conséquent, a affiché `1234`"
   ]
  },
  {
   "cell_type": "markdown",
   "metadata": {},
   "source": [
    "Cela prend en compte tout ce qui s'est passé. Rappelez-vous, le programme principal n'avait AUCUNE IDEE de ce que le mot `hello` a été affiché à l'écran. Tout ce qu'il a vu, c'est `1234`, et il l'a imprimé à l'écran."
   ]
  },
  {
   "cell_type": "markdown",
   "metadata": {},
   "source": [
    "## 4.6 Transmettre des Parameters aux fonctions\n",
    "Il y a encore une chose que nous allons aborder dans cette leçon (monstrueusement énorme) : la transmission de paramètres à une fonction. Repensez à la façon dont nous avons défini les fonctions:<br>\n",
    "```\n",
    "def nom_fonction(paramètre_1,paramètre_2):\n",
    "    {ceci est le code de la fonction}\n",
    "    {plus de code}\n",
    "    {plus de code}\n",
    "    return {valeur (exemple texte or nombre) à retourner au programme principal}\n",
    "```\n",
    "\n",
    "Là où se trouvent `paramètre_1` et `paramètre_2` (entre les parenthèses), vous mettez les noms des variables dans lesquelles vous voulez mettre les paramètres. Mettez-en autant que vous voulez, mais séparez-les par des virgules. Lorsque vous exécutez une fonction, la première valeur que vous mettez entre les parenthèses ira dans la variable où se trouve  `paramètre_1`. La deuxième valeur (après la première virgule) ira dans la variable où se trouve `paramètre_2`. Et ainsi de suite, quel que soit le nombre de paramètres de la fonction (de zéro à l'infini). Par exemple :"
   ]
  },
  {
   "cell_type": "code",
   "execution_count": null,
   "metadata": {},
   "outputs": [],
   "source": [
    "def funnyfunction(mot_premier,mot_deuxieme,mot_troisieme):\n",
    "    print(\"Le mot créé est: \" + mot_premier + mot_deuxieme + mot_troisieme)\n",
    "    return mot_premier + mot_deuxieme + mot_troisieme\n",
    "#funnyfunction(input(), input(), input())"
   ]
  },
  {
   "cell_type": "markdown",
   "metadata": {},
   "source": [
    "Lorsque vous exécutez la fonction ci-dessus, vous devez taper quelque chose comme ceci: `funnyfunction(\"Main\",\"te\",\"nant\")`. La première valeur (c'est-à-dire \"Main\") sera placée dans la variable appelée mot_premier. La deuxième valeur (c'est-à-dire \"te\") sera placée dans la variable appelée mot_deuxieme, et ainsi de suite. C'est ainsi que les valeurs sont transmises du programme principal aux fonctions - à l'intérieur des parenthèses, après le nom de la fonction.\n",
    "\n",
    "Ajoutez une nouvelle ligne au script ci-dessus qui invoque la fonction \"funnyfunction\"."
   ]
  },
  {
   "cell_type": "markdown",
   "metadata": {},
   "source": [
    "## 4.7 Programme final\n",
    "Repensez au programme de calcul. Vous a-t-il semblé un peu désordonné ? Je pense que oui, alors réécrivons-le, avec des fonctions.\n",
    "\n",
    "Pour la conception - Tout d'abord, nous allons définir toutes les fonctions que nous allons utiliser avec l'opérateur `def`  (vous rappelez-vous toujours de ce qu'est un opérateur ;) ). Ensuite, nous aurons le programme principal, avec tout ce code désordonné remplacé par de belles fonctions bien ordonnées. Il sera ainsi beaucoup plus facile de le consulter à nouveau dans le futur."
   ]
  },
  {
   "cell_type": "code",
   "execution_count": null,
   "metadata": {},
   "outputs": [],
   "source": [
    "# programme de calcul\n",
    "\n",
    "# AUCUN CODE N'EST VRAIMENT EXÉCUTÉ ICI, IL NOUS INDIQUE SEULEMENT CE QUE NOUS FERONS PLUS TARD\n",
    "# Ici, nous définirons nos fonctions\n",
    "# Ceci affiche le menu principal, et demande un choix\n",
    "def menu():\n",
    "    #Affiche les options que vous avez\n",
    "    print(\"Bienvenue dans le calculator.py\")\n",
    "    print(\"Vos options sont:\")\n",
    "    print(\" \")\n",
    "    print(\"1. Addition\")\n",
    "    print(\"2. Soustraction\")\n",
    "    print(\"3. Multiplication\")\n",
    "    print(\"4. Division\")\n",
    "    print(\"5. Quitter calculator.py\")\n",
    "    print(\" \")\n",
    "    return eval(input(\"Choisir votre option: \"))\n",
    "    \n",
    "# ceci additionne deux nombres donnés\n",
    "def add(a,b):\n",
    "    print(a, \"+\", b, \"=\", a + b)\n",
    "    \n",
    "# ceci soustrait deux nombres donnés\n",
    "def sub(a,b):\n",
    "    print(b, \"-\", a, \"=\", b - a)\n",
    "    \n",
    "# ceci multiplie deux nombres donnés\n",
    "def mul(a,b):\n",
    "    print(a, \"*\", b, \"=\", a * b)\n",
    "    \n",
    "# ceci divise deux nombres donnés\n",
    "def div(a,b):\n",
    "    print(a, \"/\", b, \"=\", a / b)\n",
    "    \n",
    "# MAINTENANT LE PROGRAMME COMMENCE VRAIMENT, VU QUE LE CODE EST EXÉCUTÉ\n",
    "loop = 1\n",
    "choice = 0\n",
    "while loop == 1:\n",
    "    choice = menu()\n",
    "    if choice == 1:\n",
    "        add(eval(input(\"Additionner ceci: \")),eval(input(\"à cela: \")))\n",
    "    elif choice == 2:\n",
    "        sub(eval(input(\"Soustraire ceci: \")),eval(input(\"de cela: \")))\n",
    "    elif choice == 3:\n",
    "        mul(eval(input(\"Multiplier ceci: \")),eval(input(\"par cela: \")))\n",
    "    elif choice == 4:\n",
    "        div(eval(input(\"Diviser ceci: \")),eval(input(\"par cela: \")))\n",
    "    elif choice == 5:\n",
    "        loop = 0\n",
    "\n",
    "print(\"Merci d'avoir utilisé calculator.py!\")\n",
    "\n",
    "# MAINTENANT LE PROGRAMME SE TERMINE VRAIMENT"
   ]
  },
  {
   "cell_type": "markdown",
   "metadata": {},
   "source": [
    "Le programme initial comportait 34 lignes de code. Le nouveau programme a en fait 35 lignes ! Il est un peu plus long, mais si vous le regardez de la bonne façon, il est en fait plus simple.\n",
    "\n",
    "Vous avez défini toutes vos fonctions au début. Elles ne font pas vraiment partie de votre programme principal - ce sont juste des tas de petits programmes auxquels vous ferez appel plus tard. Vous pouvez même les réutiliser dans un autre programme si vous en avez besoin et ne voulez pas dire à nouveau à l'ordinateur comment additionner et soustraire.\n",
    "\n",
    "Si vous regardez la partie principale du programme (entre la ligne `loop = 1` et `print(\"Merci d'avoir ...\")`), elle ne comporte que 15 lignes de code. Cela signifie que si vous vouliez écrire ce programme différemment, vous n'auriez à écrire qu'une quinzaine de lignes, au lieu des 34 lignes que vous auriez normalement sans fonctions."
   ]
  },
  {
   "cell_type": "markdown",
   "metadata": {},
   "source": [
    "## 4.8 Façons détournées pour transférer des Paramètre\n",
    "Enfin, en guise de remarque, je vais expliquer ce que signifie la ligne `add(eval(input(\"Add this: \")),eval(input(\"to this: \")))`.\n",
    "\n",
    "Je voulais tout faire tenir sur une seule ligne, avec le moins de variables possible. Vous vous rappelez à quoi ressemblent les fonctions pour le programme principal ? La valeur qu'elles retournent. Si les nombres que vous avez transféré à la fonction add() étaient 2 et 30, le programme principal verrait ceci:\n",
    "\n",
    "`add(2,30)`\n",
    "\n",
    "Le programme add s'exécuterait alors, additionnant 2 et 30, puis affichant le résultat. Le programme add n'a pas d'opérateur  `return` il ne renvoie rien au programme principal. Il additionne simplement deux nombres et les affiche à l'écran, et le programme principal n'en voit pas la couleur.\n",
    "\n",
    "Au lieu de `(eval(input(\"Add this: \")),eval(input(\"to this: \")))` comme paramètres pour le programme add vous pourriez avoir des variables. Par exemple.\n",
    "\n",
    "```\n",
    "num1 = 45\n",
    "num2 = 7\n",
    "add(num1,num2)\n",
    "```\n",
    "\n",
    "Pour l'exemple ci-dessus, rappelez-vous que la fonction à laquelle vous passez les variables ne peut pas modifier les variables elles-mêmes - elles sont simplement utilisées comme valeurs. Vous pouvez même placer les valeurs directement dans la fonction:\n",
    "\n",
    "`add(45,7)`\n",
    "\n",
    "En effet, la seule chose que la fonction voit, ce sont les valeurs qui lui sont transmises en tant que paramètres. Ces valeurs sont placées dans les variables qui sont mentionnées lorsque `add` est défini (la ligne `def add(a,b)`). La fonction utilise ensuite ces paramètres pour faire son travail.\n",
    "\n",
    "En bref:\n",
    "* La seule chose que les fonctions voient du programme principal est les paramètres qui leur sont transférés\n",
    "* La seule chose que le programme principal voit des fonctions est la valeur retournée qu'elles renvoient"
   ]
  },
  {
   "cell_type": "markdown",
   "metadata": {},
   "source": [
    "## 4.9 Conclusion\n",
    "WHOA !!!! QUELLE LEÇON MORTELLE ! !! Mais on a réussi à le faire, et j'ai fait très peu de fautes de frappe. Super !"
   ]
  },
  {
   "cell_type": "markdown",
   "metadata": {},
   "source": [
    "< [boucles, boucles, boucles, boucles...](PythonIntroCh3_FR.ipynb) | [Contents](PythonIntro_FR.ipynb) | [Tuples, Listes, et Dictionnaires](PythonIntroCh5_FR.ipynb) >"
   ]
  }
 ],
 "metadata": {
  "kernelspec": {
   "display_name": "Python 3",
   "language": "python",
   "name": "python3"
  },
  "language_info": {
   "codemirror_mode": {
    "name": "ipython",
    "version": 3
   },
   "file_extension": ".py",
   "mimetype": "text/x-python",
   "name": "python",
   "nbconvert_exporter": "python",
   "pygments_lexer": "ipython3",
   "version": "3.6.5"
  }
 },
 "nbformat": 4,
 "nbformat_minor": 2
}
