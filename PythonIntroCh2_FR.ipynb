{
 "cells": [
  {
   "cell_type": "markdown",
   "metadata": {},
   "source": [
    "< [Programmes Très Simples](PythonIntroCh1_FR.ipynb) | [Contenu](PythonIntro_FR.ipynb) | [boucles, boucles, boucles, boucles...](PythonIntroCh3_FR.ipynb) >"
   ]
  },
  {
   "cell_type": "markdown",
   "metadata": {},
   "source": [
    "# 2. Programmes dans un fichier, variables et chaine (de caratères)\n",
    "## 2.1 Introduction\n",
    "Eh bien, on peut créer des programmes d’une seule ligne. Et alors ? Vous voulez envoyer des programmes à d'autres personnes, pour qu'elles puissent les utiliser, sans savoir comment les écrire.\n",
    "## 2.2 Ecriture de scripts\n",
    "Il est TRES facile d'écrire des programmes en Python dans un fichier. Les programmes Python sont de simples documents texte - vous pouvez les ouvrir dans Notepad (Bloc-notes) et les consulter, aussi simplement.\n",
    "Dans la pratique cependant, vous utiliserez ce qui s'appelle __[Environnement de Développement Intégré ou Integrated Development Environment (IDE)](https://en.wikipedia.org/wiki/Integrated_development_environment)__ pour développer vos scripts.\n",
    "\n",
    "Dans ce tutoriel, nous utiliserons les champs interactifs de Jupyter Notebook comme IDE. Après le tutoriel, nous utiliserons __[Spyder](https://pythonhosted.org/spyder/)__ qui est fourni avec __[Anaconda](https://www.anaconda.com/download/)__ la distribution Python.\n",
    "\n",
    "Regardez le programme (`mary.py`) ci dessous:"
   ]
  },
  {
   "cell_type": "code",
   "execution_count": null,
   "metadata": {},
   "outputs": [],
   "source": [
    "#Un programme simple.\n",
    "print(\"Marie avait un petit agneau\")\n",
    "print(\"Sa toison était blanche comme neige;\")\n",
    "print(\"et partout où Mary allait\", end = \" \")\n",
    "print(\"son agneau était sûr d'y aller.\")"
   ]
  },
  {
   "cell_type": "markdown",
   "metadata": {},
   "source": [
    "Si vous exécutez le script (`<shift> + <Return>`) il exécutera les lignes 1 à 5 les unes après les autres. Dans un IDE, il y a toujours un écran où vous pouvez taper le code avec une coloration syntaxique (comme ici), une fenêtre où vous pouvez voir la sortie et un bouton pour exécuter le script. Les scripts sont enregistrés en tant que fichiers `.py`. These can be run from your command line - Ouvrez la fenêtre du terminal, allez dans le dossier et tapez `Python mary.py`. Votre programme va maintenant s'exécuter dans la ligne de commande.\n",
    "\n",
    "A la ligne 4 `end = \" \"` insère un espace au lieu d'une nouvelle ligne à la fin de l'opérateur `print`."
   ]
  },
  {
   "cell_type": "markdown",
   "metadata": {},
   "source": [
    "## 2.3 Variables\n",
    "Introduisons maintenant les variables. Les variables stockent une valeur, qui peut être consultée ou modifiée ultérieurement. Faisons un programme qui utilise des variables:"
   ]
  },
  {
   "cell_type": "code",
   "execution_count": null,
   "metadata": {},
   "outputs": [],
   "source": [
    "#démonstration de variables\n",
    "print(\"Ce programme est une démonstration de variables\")\n",
    "v = 1\n",
    "print(\"La valeur de v est actuellement\", v)\n",
    "v = v + 1\n",
    "print(\"v est maintenant égal à lui-même plus un, ce qui lui donne une valeur de\", v)\n",
    "v = 51\n",
    "print(\"v peut stocker n'importe quelle valeur numérique, à utiliser ailleurs.\")\n",
    "print(\"par exemple, dans une phrase. v vaut maintenant\", v)\n",
    "print(\"v fois 5 égale\", v * 5)\n",
    "print(\"Mais v demeure toujours\", v)\n",
    "print(\"pour que v soit cinq fois plus grand, il faudrait taper v = v * 5\")\n",
    "v = v * 5\n",
    "print(\"Voilà, maintenant v égale\", v, \"et pas\", v / 5)"
   ]
  },
  {
   "cell_type": "markdown",
   "metadata": {},
   "source": [
    "Exécutez le script et essayez de comprendre les résultats."
   ]
  },
  {
   "cell_type": "markdown",
   "metadata": {},
   "source": [
    "Notez que nous pouvons également écrire `v = v + 1` comme `v += 1`. Ceci peut être utilisé pour tous les opérateurs (exemple `-=`, `*=`,`/=`). Essayez cela dans le code ci-dessus.\n",
    "\n",
    "Il est recommandé d'utiliser des minuscules ou des majuscules pour les variables. N'utilisez pas de caractères spéciaux et ne commencez pas par un chiffre!"
   ]
  },
  {
   "cell_type": "markdown",
   "metadata": {},
   "source": [
    "## 2.5 Chaîne (de caractères)\n",
    "Comme vous pouvez le constater, les variables stockent des valeurs, que vous pourrez utiliser ultérieurement. Vous pouvez les modifier à tout moment. Mais vous pouvez y mettre plus que des chiffres. Les variables peuvent contenir des éléments tels que du texte. Une variable qui contient du texte s'appelle une chaîne de caractères, ou simplement chaîne ou même string. Essayez ce programme:"
   ]
  },
  {
   "cell_type": "code",
   "execution_count": null,
   "metadata": {},
   "outputs": [],
   "source": [
    "#donner du texte aux variables, et associer du texte.\n",
    "Word1 = \"Bon\"\n",
    "Word2 = \"jour\"\n",
    "Word3 = \"à toi aussi!\"\n",
    "print(Word1, Word2)\n",
    "sentence = Word1 + \" \" + Word2 + \" \" + Word3\n",
    "print(sentence)"
   ]
  },
  {
   "cell_type": "markdown",
   "metadata": {},
   "source": [
    "Comme vous le voyez, les variables ci-dessus contenaient du texte. Les noms de variables peuvent aussi être plus longs qu'une seule lettre - ici, nous avions  `word1`, `word2`, et `word3`. Comme vous pouvez également le voir, les chaînes de caractères peuvent être additionnées pour former des mots ou des phrases plus longs. Cependant, il n'ajoute pas d'espace entre les mots - d'où le fait que j'ai mis les symboles`\" \"` (il y a un espace entre les symboles).\n",
    "\n",
    "Nous avons souvent besoin de manipuler des chaînes de caractères. Par exemple, si nous voulons éditer des noms de fichiers ou faire des sélections dans du texte. Les chaînes de caractères sont similaires aux `lists` (listes) que vous apprendrez plus tard. Ainsi, des opérations similaires (appelées *list slicing*) s'appliquent aux chaînes de caractères.\n",
    "\n",
    "Essayez le code suivant et expliquez ce qu'il fait:"
   ]
  },
  {
   "cell_type": "code",
   "execution_count": null,
   "metadata": {},
   "outputs": [],
   "source": [
    "text = \"abcdefghij\"\n",
    "len(text)"
   ]
  },
  {
   "cell_type": "markdown",
   "metadata": {},
   "source": [
    "Oui, ça nous montre le nombre de caractères d'une chaîne.\n",
    "\n",
    "Maintenant, essayez ceci:"
   ]
  },
  {
   "cell_type": "code",
   "execution_count": null,
   "metadata": {},
   "outputs": [],
   "source": [
    "print(text[4])"
   ]
  },
  {
   "cell_type": "markdown",
   "metadata": {},
   "source": [
    "Ici, nous voulons imprimer le caractère en position 4. Notez que le premier caractère \"a\" est à la position 0 ! Donc la position 4 nous donne \"e\".\n",
    "\n",
    "Maintenant essayez:"
   ]
  },
  {
   "cell_type": "code",
   "execution_count": null,
   "metadata": {},
   "outputs": [],
   "source": [
    "print(text[:4])"
   ]
  },
  {
   "cell_type": "code",
   "execution_count": null,
   "metadata": {},
   "outputs": [],
   "source": [
    "print(text[4:])"
   ]
  },
  {
   "cell_type": "markdown",
   "metadata": {},
   "source": [
    "Ici, vous voyez que `[:4]` sélectionne les caractères 0,1,2,3, ce qui donne \"abcd\". Avec `[4:]` nous commençons par la position 4 (en comptant à partir de 0 !) jusqu'à la fin de la chaîne, ce qui donne \"efghij\".\n",
    "\n",
    "On peut aussi spécifier un intervalle. Essayez ceci:"
   ]
  },
  {
   "cell_type": "code",
   "execution_count": null,
   "metadata": {},
   "outputs": [],
   "source": [
    "print(text[4:8])"
   ]
  },
  {
   "cell_type": "markdown",
   "metadata": {},
   "source": [
    "Etait-ce ce à quoi vous vous attendiez ?\n",
    "Avec les intervalles, la valeur maximale n'est pas incluse dans la sélection.\n",
    "\n",
    "Nous avons toujours la variable `sentence` disponible. Ecrivez le code ci-dessous pour sélectionner le deuxième mot de la phrase en utilisant l'intervalle correct."
   ]
  },
  {
   "cell_type": "code",
   "execution_count": null,
   "metadata": {},
   "outputs": [],
   "source": []
  },
  {
   "cell_type": "markdown",
   "metadata": {},
   "source": [
    "Essayez ceci maintenant:"
   ]
  },
  {
   "cell_type": "code",
   "execution_count": null,
   "metadata": {},
   "outputs": [],
   "source": [
    "print(text[-2])"
   ]
  },
  {
   "cell_type": "markdown",
   "metadata": {},
   "source": [
    "Qu'a t-il fait?\n",
    "\n",
    "Exact, vous avez sélectionné le deuxième caractère en partant de la droite ! Notez qu'ici nous commençons à compter avec -1 pour le premier caractère en partant de la droite.\n",
    "\n",
    "Essayez ceci:"
   ]
  },
  {
   "cell_type": "code",
   "execution_count": null,
   "metadata": {},
   "outputs": [],
   "source": [
    "print(text[-4:])"
   ]
  },
  {
   "cell_type": "markdown",
   "metadata": {},
   "source": [
    "En langage humain : commencez par le 4ème caractère en partant de la droite et donnez-moi tous les caractères à partir de cette position jusqu'à la fin de la chaîne.\n",
    "\n",
    "Maintenant, essayez ceci et découvrez ce que cela fait:"
   ]
  },
  {
   "cell_type": "code",
   "execution_count": null,
   "metadata": {},
   "outputs": [],
   "source": [
    "print(text[::2])"
   ]
  },
  {
   "cell_type": "markdown",
   "metadata": {},
   "source": [
    "Nous pouvons également ajouter les résultats du découpage de chaine ou liste encore appelé *list slicing* aux variables et les insérer dans des chaînes de caractères à l'aide de l'opération format:"
   ]
  },
  {
   "cell_type": "code",
   "execution_count": null,
   "metadata": {},
   "outputs": [],
   "source": [
    "nrOfCharacters = len(sentence)\n",
    "lastWord = sentence[-6:-1]\n",
    "print(\"La phrase SENTENCE a {} caractères et le dernier mot est: {}\".format(nrOfCharacters,lastWord))"
   ]
  },
  {
   "cell_type": "markdown",
   "metadata": {},
   "source": [
    "Vous pouvez donc facilement insérer des variables à la place des accolades (`{}`). Elles seront substituées dans le même ordre que les variables dans `.format()`"
   ]
  },
  {
   "cell_type": "markdown",
   "metadata": {},
   "source": [
    "Cela peut aussi s'écrire comme suit:"
   ]
  },
  {
   "cell_type": "code",
   "execution_count": null,
   "metadata": {},
   "outputs": [],
   "source": [
    "print(f\"La phrase SENTENCE a {nrOfCharacters} caractères et le dernier mot est: {lastWord}\")"
   ]
  },
  {
   "cell_type": "markdown",
   "metadata": {},
   "source": [
    "Outre le découpage ou *list slicing* il existe d'autres opérations que nous pouvons appliquer aux chaînes de caractères.\n",
    "Nous pouvons compter (count) le nombre d'occurrences d'un caractère spécifique dans une chaîne:"
   ]
  },
  {
   "cell_type": "code",
   "execution_count": null,
   "metadata": {},
   "outputs": [],
   "source": [
    "print(sentence.count('o'))"
   ]
  },
  {
   "cell_type": "markdown",
   "metadata": {},
   "source": [
    "Nous pouvons également trouver (find) la position d'un caractère:"
   ]
  },
  {
   "cell_type": "code",
   "execution_count": null,
   "metadata": {},
   "outputs": [],
   "source": [
    "print(text.find('e'))"
   ]
  },
  {
   "cell_type": "code",
   "execution_count": null,
   "metadata": {},
   "outputs": [],
   "source": [
    "sometext = \"Hey toi, comment vas-tu toi?\"\n",
    "print(sometext.rfind(\"toi\"))"
   ]
  },
  {
   "cell_type": "markdown",
   "metadata": {},
   "source": [
    "`rfind` renvoie la dernière occurrence d'une chaîne de caractères. Ainsi, dans `sometext` nous avons le mot \"toi\" deux fois. `rfind` renvoie `24` ce qui signifie que la dernière fois qu'il a trouvé \"toi\" est à partir de la position 24 (en comptant à partir de 0).\n",
    "\n",
    "Il y a quelques autres opérations utiles sur les chaînes de caractères. Exécutez le code ci-dessous et vous verrez ce qu'il fait:"
   ]
  },
  {
   "cell_type": "code",
   "execution_count": null,
   "metadata": {},
   "outputs": [],
   "source": [
    "# Change la chaîne de caractères en majuscules\n",
    "print(sometext.upper())\n",
    "\n",
    "# Divise la chaîne de caractères au niveau d'un caractère et la renvoie sous forme d'éléments de liste. Vous apprendrez davantage sur les listes plus tard\n",
    "print(sometext.split(\",\"))\n",
    "\n",
    "# Replace une chaîne ou un caractère\n",
    "print(sometext.replace(\"?\",\"!\"))"
   ]
  },
  {
   "cell_type": "markdown",
   "metadata": {},
   "source": [
    "Il existe également quelques caractères spéciaux:\n",
    "\n",
    "`\\n` saute à une nouvelle ligne.\n",
    "\n",
    "`\\` est un caractère d’évitement. Vous pouvez le mettre devant un autre caractère qui a une signification dans le code et qui n'est pas considéré comme une chaîne. Ceci est souvent utilisé pour avoir des chaînes de caractères avec des barres obliques inversées pour les noms de fichiers sous Windows (par exemple `\"C:\\\\folder\\\\filename.txt\"`). Comme `\\` est déjà un caractère d’évitement, nous devons l'utiliser deux fois pour échapper au caractère d'évitement !\n",
    "\n",
    "Exemples:"
   ]
  },
  {
   "cell_type": "code",
   "execution_count": null,
   "metadata": {},
   "outputs": [],
   "source": [
    "print(\"Cette phrase est très longue et je veux la couper en deux lignes.\")\n",
    "print(\"Cette phrase est très longue \\net je veux la couper en deux lignes.\")\n",
    "\n",
    "print(\"Cette phrase contient une guillemet et je ne veux pas que la chaîne se termine (pas encore)\\\" \")"
   ]
  },
  {
   "cell_type": "markdown",
   "metadata": {},
   "source": [
    "## 2.6 Conclusion\n",
    "Bien joué ! Nous comprenons maintenant les longs programmes, et savons utiliser des variables. Nous savons également manipuler des chaînes de caractères. Dans la prochaine leçon, nous verrons les boucles et comment les utiliser."
   ]
  },
  {
   "cell_type": "markdown",
   "metadata": {},
   "source": [
    "< [Programmes Très Simples](PythonIntroCh1_FR.ipynb) | [Contenu](PythonIntro_FR.ipynb) | [boucles, boucles, boucles, boucles...](PythonIntroCh3_FR.ipynb) >"
   ]
  }
 ],
 "metadata": {
  "kernelspec": {
   "display_name": "Python 3",
   "language": "python",
   "name": "python3"
  },
  "language_info": {
   "codemirror_mode": {
    "name": "ipython",
    "version": 3
   },
   "file_extension": ".py",
   "mimetype": "text/x-python",
   "name": "python",
   "nbconvert_exporter": "python",
   "pygments_lexer": "ipython3",
   "version": "3.6.5"
  }
 },
 "nbformat": 4,
 "nbformat_minor": 2
}
