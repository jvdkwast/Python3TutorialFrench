{
 "cells": [
  {
   "cell_type": "markdown",
   "metadata": {},
   "source": [
    "< [Contenu](PythonIntro_FR.ipynb) | [Programmes dans un fichier, variables and chaine de caractères (string)](PythonIntroCh2_FR.ipynb) >"
   ]
  },
  {
   "cell_type": "markdown",
   "metadata": {},
   "source": [
    "# 1. 'Programmes' très simples\n",
    "## 1.1 Exécution de Python à partir de la ligne de commande\n",
    "Afin de tester des morceaux de code, nous pouvons exécuter Python à partir de la ligne de commande. Dans ce Notebook, nous allons simuler cela. Vous pouvez taper les commandes dans les champs et exécuter le programme.<br>\n",
    "Dans le champ, tapez:<br>\n",
    "```python\n",
    "print('Hello, World')\n",
    "```\n",
    "Appuyez ensuite sur `<shift> + <return>` pour exécuter la commande.\n",
    "\n"
   ]
  },
  {
   "cell_type": "code",
   "execution_count": null,
   "metadata": {},
   "outputs": [],
   "source": []
  },
  {
   "cell_type": "markdown",
   "metadata": {},
   "source": [
    "Que s'est-il passé?\n",
    "\n",
    "Vous venez de créer un programme qui affiche les mots \"Hello, World\". L'environnement Python dans lequel vous vous trouvez compile immédiatement ce que vous avez tapé. C'est utile pour tester des choses, par exemple définir quelques variables, et ensuite tester si une certaine ligne fonctionnera. Mais cela sera abordé dans une leçon ultérieure."
   ]
  },
  {
   "cell_type": "markdown",
   "metadata": {},
   "source": [
    "## 1.2 Maths en Python\n",
    "Tapez<br>\n",
    "```python\n",
    "1 + 1\n",
    "```\n",
    "et exécutez le code."
   ]
  },
  {
   "cell_type": "code",
   "execution_count": null,
   "metadata": {
    "scrolled": true
   },
   "outputs": [],
   "source": []
  },
  {
   "cell_type": "markdown",
   "metadata": {},
   "source": [
    "Maintenant tapez\n",
    "```python\n",
    "20 + 80\n",
    "```\n",
    "et exécutez code."
   ]
  },
  {
   "cell_type": "code",
   "execution_count": null,
   "metadata": {},
   "outputs": [],
   "source": []
  },
  {
   "cell_type": "markdown",
   "metadata": {},
   "source": [
    "Ce sont des additions. Nous pouvons bien sûr utiliser d'autres opérateurs mathématiques.<br>\n",
    "Essayez cette soustraction:<br>\n",
    "```python\n",
    "6 - 5\n",
    "```"
   ]
  },
  {
   "cell_type": "code",
   "execution_count": null,
   "metadata": {},
   "outputs": [],
   "source": []
  },
  {
   "cell_type": "markdown",
   "metadata": {},
   "source": [
    "et cette multiplication:<br>\n",
    "```python\n",
    "2 * 5\n",
    "```"
   ]
  },
  {
   "cell_type": "code",
   "execution_count": null,
   "metadata": {},
   "outputs": [],
   "source": []
  },
  {
   "cell_type": "markdown",
   "metadata": {},
   "source": [
    "Essayez:\n",
    "```python\n",
    "5 ** 2\n",
    "```"
   ]
  },
  {
   "cell_type": "code",
   "execution_count": null,
   "metadata": {},
   "outputs": [],
   "source": []
  },
  {
   "cell_type": "markdown",
   "metadata": {},
   "source": [
    "`**` est l'opérateur exponentiel, nous avons donc exécuté 5 au carré"
   ]
  },
  {
   "cell_type": "markdown",
   "metadata": {},
   "source": [
    "Tapez:\n",
    "```python\n",
    "print('1 + 2 est une addition')\n",
    "```"
   ]
  },
  {
   "cell_type": "code",
   "execution_count": null,
   "metadata": {},
   "outputs": [],
   "source": []
  },
  {
   "cell_type": "markdown",
   "metadata": {},
   "source": [
    "Vous voyez que l'instruction `print` affiche quelque chose à l'écran.\n",
    "\n",
    "Essayez ceci:\n",
    "```python\n",
    "print('un kilobyte est 2^10 bytes, ou', 2 ** 10, 'bytes')\n",
    "```"
   ]
  },
  {
   "cell_type": "code",
   "execution_count": null,
   "metadata": {},
   "outputs": [],
   "source": []
  },
  {
   "cell_type": "markdown",
   "metadata": {},
   "source": [
    "Cela démontre que vous pouvez imprimer du texte et des calculs dans une même phrase. Les apostrophes qui séparent chaque section sont un moyen de séparer les chaînes de caractères (texte) des calculs ou des variables"
   ]
  },
  {
   "cell_type": "markdown",
   "metadata": {},
   "source": [
    "Maintenant essayez ceci:\n",
    "```python\n",
    "23 / 3\n",
    "```"
   ]
  },
  {
   "cell_type": "code",
   "execution_count": null,
   "metadata": {},
   "outputs": [],
   "source": []
  },
  {
   "cell_type": "markdown",
   "metadata": {},
   "source": [
    "Et cela:<br>\n",
    "```python\n",
    "23 % 3\n",
    "```"
   ]
  },
  {
   "cell_type": "code",
   "execution_count": null,
   "metadata": {},
   "outputs": [],
   "source": []
  },
  {
   "cell_type": "markdown",
   "metadata": {},
   "source": [
    "`%` renvoie le reste de la division."
   ]
  },
  {
   "cell_type": "markdown",
   "metadata": {},
   "source": [
    "## 1.3 Ordre des Operations"
   ]
  },
  {
   "cell_type": "markdown",
   "metadata": {},
   "source": [
    "Vous vous souvenez de ce qu'on appelle l'ordre des opérations qu'on enseigne en maths ? Eh bien, il s'applique aussi en Python. Le voici, si vous avez besoin de vous en rappeler:<br>\n",
    "1. Parenthèse `()`\n",
    "2. Exposent `**`\n",
    "3. Multiplication `*`, division `/` et teste `%`\n",
    "4. Addition `+` et soustraction `-`"
   ]
  },
  {
   "cell_type": "markdown",
   "metadata": {},
   "source": [
    "Voici quelques exemples que vous pourriez essayer, si vous êtes rouillé sur ce sujet:<br>\n",
    "```python\n",
    "1 + 2 * 3\n",
    "(1 + 2) * 3\n",
    "```"
   ]
  },
  {
   "cell_type": "code",
   "execution_count": null,
   "metadata": {},
   "outputs": [],
   "source": []
  },
  {
   "cell_type": "code",
   "execution_count": null,
   "metadata": {},
   "outputs": [],
   "source": []
  },
  {
   "cell_type": "markdown",
   "metadata": {},
   "source": [
    "## 1.4 Commentaires, SVP\n",
    "La dernière chose que vous devrez connaître pour passer aux programmes multi-lignes est le commentaire. Tapez ce qui suit (et oui, la sortie est déjà montrée):\n",
    "```python\n",
    "# Je suis un commentaire. Craignez ma colère!\n",
    "```"
   ]
  },
  {
   "cell_type": "code",
   "execution_count": 14,
   "metadata": {},
   "outputs": [],
   "source": []
  },
  {
   "cell_type": "markdown",
   "metadata": {},
   "source": [
    "Un commentaire est un morceau de code qui n'est pas exécuté. En Python, vous faites d'un élément un commentaire en le faisant précéder d'un dièse. Un dièse commente tout ce qui le suit dans la ligne, et rien avant. Vous pourriez donc taper ceci:\n",
    "```python\n",
    "print(\"la nourriture est très bonne\") #mangez moi\n",
    "```"
   ]
  },
  {
   "cell_type": "code",
   "execution_count": null,
   "metadata": {},
   "outputs": [],
   "source": []
  },
  {
   "cell_type": "markdown",
   "metadata": {},
   "source": [
    "Le résultat est une sortie normale, sans le grossier commentaire, merci beaucoup.\n",
    "\n",
    "Maintenant essayez ceci:\n",
    "```python\n",
    "# print(\"la nourriture est très bonne\")\n",
    "```"
   ]
  },
  {
   "cell_type": "code",
   "execution_count": null,
   "metadata": {},
   "outputs": [],
   "source": []
  },
  {
   "cell_type": "markdown",
   "metadata": {},
   "source": [
    "Rien ne se passe, car le code se trouvait après un commentaire."
   ]
  },
  {
   "cell_type": "markdown",
   "metadata": {},
   "source": [
    "Les commentaires sont importants pour ajouter des informations nécessaires qu'un autre programmeur peut lire, mais pas l'ordinateur. Par exemple, une explication d'une section de code, disant ce qu'elle fait, ou ce qui ne va pas avec elle. Vous pouvez également commenter des bouts de code en mettant un `#` devant - si vous ne voulez pas qu'il soit compilé, mais ne pouvez pas le supprimer parce que vous pourriez en avoir besoin plus tard."
   ]
  },
  {
   "cell_type": "markdown",
   "metadata": {},
   "source": [
    "< [Contenu](PythonIntro_FR.ipynb) | [Programmes dans un fichier, variables and chaine de caractères (string)](PythonIntroCh2_FR.ipynb) >"
   ]
  }
 ],
 "metadata": {
  "kernelspec": {
   "display_name": "Python 3",
   "language": "python",
   "name": "python3"
  },
  "language_info": {
   "codemirror_mode": {
    "name": "ipython",
    "version": 3
   },
   "file_extension": ".py",
   "mimetype": "text/x-python",
   "name": "python",
   "nbconvert_exporter": "python",
   "pygments_lexer": "ipython3",
   "version": "3.6.5"
  }
 },
 "nbformat": 4,
 "nbformat_minor": 2
}
