{
 "cells": [
  {
   "cell_type": "markdown",
   "metadata": {},
   "source": [
    "<[Programmes Très Simples](PythonIntroCh1_FR.ipynb)>"
   ]
  },
  {
   "cell_type": "markdown",
   "metadata": {},
   "source": [
    "# Une Introduction au Scriptage avec Python 3\n",
    "Par __[Hans van der Kwast](http://www.linkedin.com/in/jvdkwast)__<br>\n",
    "__[IHE Delft Institute for Water Education](http://www.un-ihe.org)__<br>\n",
    "Twitter: @hansakwast\n",
    "\n",
    "\n",
    "## Contenu\n",
    "### __[Leçon 1: Programmes Très Simples](PythonIntroCh1_FR.ipynb)__\n",
    "### __[Leçon 2: Programmes dans un fichier, variables and chaine de caractères (string)](PythonIntroCh2_FR.ipynb)__\n",
    "### __[Leçon 3: boucles, boucles, boucles, boucles...](PythonIntroCh3_FR.ipynb)__\n",
    "### __[Leçon 4: Fonctions](PythonIntroCh4_FR.ipynb)__\n",
    "### __[Leçon 5: Tuples, Listes, et Dictionnaires](PythonIntroCh5_FR.ipynb)__\n",
    "### __[Leçon 6: Boucle for](PythonIntroCh6_FR.ipynb)__\n",
    "### __[Leçon 7: Classes](PythonIntroCh7_FR.ipynb)__\n",
    "### __[Leçon 8: Modules](PythonIntroCh8_FR.ipynb)__\n",
    "### __[Leçon 9: Fichier I/O](PythonIntroCh9_FR.ipynb)__\n",
    "### __[Leçon 10: Gestion d'Exception](PythonIntroCh10_FR.ipynb)__\n",
    "\n",
    "*Ce Jupyter Notebook a été développé sur la base de \"A Beginner's Python Tutorial\" par Steven Thurlow. Le __[materiel original](https://github.com/stoive/pythontutorial)__ a été adapté à Python 3.*\n",
    "\n",
    "*Cette œuvre  est sous licencd Creative Commons Attribution 2.5 Australia License. Pour consulter une copie de cette licence, visitez http://creativecommons.org/licenses/by/2.5/au/ ou envoyez une lettre à Creative Commons, 444 Castro Street, Suite 900, Mountain View, California, 94041, USA.*"
   ]
  },
  {
   "cell_type": "markdown",
   "metadata": {},
   "source": [
    "<[Programmes Très Simples](PythonIntroCh1_FR.ipynb)>"
   ]
  }
 ],
 "metadata": {
  "kernelspec": {
   "display_name": "Python 3",
   "language": "python",
   "name": "python3"
  },
  "language_info": {
   "codemirror_mode": {
    "name": "ipython",
    "version": 3
   },
   "file_extension": ".py",
   "mimetype": "text/x-python",
   "name": "python",
   "nbconvert_exporter": "python",
   "pygments_lexer": "ipython3",
   "version": "3.6.5"
  }
 },
 "nbformat": 4,
 "nbformat_minor": 2
}
