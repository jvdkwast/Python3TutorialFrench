{
 "cells": [
  {
   "cell_type": "markdown",
   "metadata": {},
   "source": [
    "< [Programmes dans un fichier, variables and chaine de caractères (string)](PythonIntroCh2_FR.ipynb) | [Contenu](PythonIntro_FR.ipynb) | [Fonctions](PythonIntroCh4_FR.ipynb) >"
   ]
  },
  {
   "cell_type": "markdown",
   "metadata": {},
   "source": [
    "# 3. Boucle, Boucle, Boucle, Boucle...\n",
    "## 3.1 Introduction\n",
    "(Notre dernière leçon avant de passer à l'interaction avec les données humaines. Vous avez hâte, n’est-ce pas ?)\n",
    "\n",
    "Imaginez que vous ayez besoin d'un programme pour faire quelque chose 20 fois. Que feriez-vous ? Vous pourriez copier et coller le code 20 fois, et obtenir un programme pratiquement illisible, sans parler de sa lenteur et de son inutilité. Vous pouvez aussi demander à l'ordinateur de répéter un bout de code entre un point A et un point B, jusqu'à ce que vous décidiez  qu'il s'arrête. Une telle chose s'appelle une boucle.\n",
    "\n",
    "## 3.2 La boucle avec 'While'\n",
    "Voici des exemples d'un type de boucle, appelée boucle \"while\":\n"
   ]
  },
  {
   "cell_type": "code",
   "execution_count": null,
   "metadata": {},
   "outputs": [],
   "source": [
    "a = 0\n",
    "while a < 10:\n",
    "    a = a + 1\n",
    "    print(a)"
   ]
  },
  {
   "cell_type": "markdown",
   "metadata": {},
   "source": [
    "Comment fonctionne ce programme ? Voyons cela en français:\n",
    "```\n",
    "'a' est actuellement égale à 0\n",
    "Tant que 'a' est inférieur à 10, fait ce qui suit:\n",
    "   Augmentez la valeur de \"a\" d'une unité par rapport à ce qu'elle est déjà.\n",
    "   Afficher la valeur de 'a' à l'écran.\n",
    "```"
   ]
  },
  {
   "cell_type": "markdown",
   "metadata": {},
   "source": [
    "Que fait le programme ? Voyons ce que l'ordinateur pense lorsqu'il se trouve dans la boucle 'while':"
   ]
  },
  {
   "cell_type": "markdown",
   "metadata": {},
   "source": [
    "```\n",
    "#ETEZ UN COUP D'OEIL RAPIDE SUR CECI\n",
    "#Ça a l'air compliqué, mais c'est très simple)\n",
    "Est-ce que \"a\" est inférieur à 10 ? OUI (il est égal à 0)\n",
    "Augmenter 'a' d'une unité (maintenant 1)\n",
    "Affichez à l'écran la valeur de 'a' (1)\n",
    "\n",
    "Est-ce que 'a' est inférieur à 10 ? OUI (est 1)\n",
    "Augmenter 'a' d'une unité (maintenant 2)\n",
    "Affichez à l'écran la valeur de 'a' (2)\n",
    "\n",
    "Est-ce que 'a' est inférieur à 10 ? OUI (est 2)\n",
    "Augmenter 'a' d'une unité (maintenant 3)\n",
    "Affichez à l'écran la valeur de 'a' (3)\n",
    "\n",
    "Est-ce que 'a' est inférieur à 10 ? OUI (est 3)\n",
    "Augmenter 'a' d'une unité (maintenant 4)\n",
    "Affichez à l'écran la valeur de 'a' (4)\n",
    "\n",
    "Est-ce que 'a' est inférieur à 10 ? OUI (est 4)\n",
    "Augmenter 'a' d'une unité (maintenant 5)\n",
    "Affichez à l'écran la valeur de 'a' (5)\n",
    "\n",
    "Est-ce que \"a\" est inférieur à 10 ? OUI (est 5)\n",
    "Augmenter 'a' d'une unité (maintenant 6)\n",
    "Affichez à l'écran la valeur de 'a' (6)\n",
    "\n",
    "Est-ce que 'a' est inférieur à 10 ? OUI (est 6)\n",
    "Augmenter 'a' d'une unité (maintenant 7)\n",
    "Affichez à l'écran la valeur de 'a' (7)\n",
    "\n",
    "Est-ce que 'a' est inférieur à 10 ? OUI ( es-tu toujours là ?)\n",
    "Augmenter 'a' d'une unité (maintenant 8)\n",
    "Affichez à l'écran la valeur de 'a' (8)\n",
    "\n",
    "Est-ce que 'a' est inférieur à 10 ? OUI (est 8)\n",
    "Augmenter 'a' d'une unité (maintenant 9)\n",
    "Affichez à l'écran la valeur de 'a' (9)\n",
    "\n",
    "Est-ce que 'a' est inférieur à 10 ? OUI (est 9)\n",
    "Augmenter 'a' d'une unité 'a' (maintenant 10)\n",
    "Affichez à l'écran la valeur de 'a' (10)\n",
    "\n",
    "Est-ce que 'a' est inférieur à 10 ? NON (il vaut 10, donc il n'est pas inférieur à 10)\n",
    "Ne pas faire la boucle\n",
    "Il n'y a plus de code à faire, donc le programme se termine.\n",
    "```"
   ]
  },
  {
   "cell_type": "markdown",
   "metadata": {},
   "source": [
    "En bref, essayez de penser de cette manière lorsque vous écrivez des boucles 'while'. Voici comment les écrire, d'ailleurs (syntaxe):\n",
    "```\n",
    "while {condition pour que la boucle continue}:\n",
    "    {que faire dans la boucle}\n",
    "    {avec indentation, généralement de quatre espaces}\n",
    "Cette partie du code n'est pas dans la boucle\n",
    "parce qu'elle n'est pas indenté\n",
    "```"
   ]
  },
  {
   "cell_type": "markdown",
   "metadata": {},
   "source": [
    "Essayez maintenant de comprendre cet exemple et vérifiez s'il correspond à ce à quoi vous vous attendiez."
   ]
  },
  {
   "cell_type": "code",
   "execution_count": null,
   "metadata": {},
   "outputs": [],
   "source": [
    "x = 10\n",
    "while x != 0:\n",
    "    print(x)\n",
    "    x = x - 1\n",
    "    print(\"wow, nous avons déconté à rebours x, il est à présent égale à\", x)\n",
    "print(\"A présent, prend fin la boucle.\")"
   ]
  },
  {
   "cell_type": "markdown",
   "metadata": {},
   "source": [
    "## 3.3 Expressions booléenne (Booléenne... Quoi?!?)\n",
    "Que tapez-vous dans la zone marquée `{condition pour la boucle continue}`? La réponse est une expression booléenne.<br>\n",
    "Oui? Un concept oublié pour les non matheux ici. Peu importe, une expression booléenne signifie simplement une question à laquelle on peut répondre par un VRAI ou un FAUX. Par exemple, si vous voulez dire que votre âge est le même que celui de la personne à côté de vous, vous devez taper:\n",
    "\n",
    "`Mon age == l'âge de la personne à côté de moi`\n",
    "\n",
    "Et l'affirmation serait VRAIE. Si vous étiez plus jeune que la personne à côté de vous, vous diriez:\n",
    "`Mon age < l'âge de la personne à côté de moi`\n",
    "\n",
    "Et l'affirmation serait VRAIE. Si, toutefois, vous disiez ce qui suit, et que la personne à côté de vous était plus jeune que vous:\n",
    "\n",
    "`Mon age < l'âge de la personne à côté de moi`\n",
    "\n",
    "L'affirmation serait FAUSSE - la vérité étant l'inverse. Voici comment pense une boucle - Si l'xpression est vrai, continuer la boucle. If it is false, don't loop. With this in mind, let's have a look at the operators (symbols that represent an action) that are involved in boolean expressions:<br>\n",
    "\n",
    "| Expression | Fonction  |\n",
    "|   :---:    |   :---:   |\n",
    "|    `<`     | Inférieur à |\n",
    "| `<=` | Inférieur ou égal à |\n",
    "| `>` | Supérieur à |\n",
    "| `>=` | Spérieur ou égal à |\n",
    "| `!=` | Pas égale à |\n",
    "| `<>` | Pas égal à (alternatif) |\n",
    "| `==` | Egal à |\n",
    "\n",
    "Ne confondez pas `=` et `==` - l'opérateur `=` rend ce qui est à gauche égal à ce qui est à droite. L'opérateur `==`  dit si la chose à gauche est la même que celle à droite, et renvoie une réponse Vraie ou Fausse.\n",
    "\n",
    "\n"
   ]
  },
  {
   "cell_type": "markdown",
   "metadata": {},
   "source": [
    "## 3.4 Instructions Conditionnelles\n",
    "BIEN ! Nous avons (espérons-le) couvert les boucles 'while'. Maintenant, regardons quelque chose d'un peu différent - les conditionnelles.<br>\n",
    "Les conditionnelles réfèrent à une section de code qui n'est exécutée que si certaines conditions sont remplies. Elle est similaire à la boucle 'while' que vous venez d'écrire, qui ne s'exécute que lorsque x n'est pas égal à 0. Cependant, les conditionnelles ne sont exécutées qu'une seule fois. La conditionnelle la plus courante dans tout langage de programme, est l'instruction 'if'. Voici comment elle fonctionne:<br>\n",
    "```\n",
    "if {condition à remplir}:\n",
    "    {faire ceci}\n",
    "    {et ceci}\n",
    "    {et ceci}\n",
    "{mais ceci se passe quand même}\n",
    "{parce qu'elle n'est pas indenté}\n",
    "```\n",
    "<br>\n",
    "Maintenant, quelques exemples en Python:"
   ]
  },
  {
   "cell_type": "code",
   "execution_count": null,
   "metadata": {},
   "outputs": [],
   "source": [
    "#EXEMPLE 1\n",
    "y = 1\n",
    "if y == 1:\n",
    "    print(\"y est toujours égal à 1, c'était juste une vérification\")"
   ]
  },
  {
   "cell_type": "code",
   "execution_count": null,
   "metadata": {},
   "outputs": [],
   "source": [
    "#EXEMPLE 2\n",
    "print(\"Nous allons montrer les nombres pairs jusqu'à 20\")\n",
    "n = 1\n",
    "while n <= 20:\n",
    "    if n % 2 == 0:\n",
    "        print(n)\n",
    "    n = n + 1\n",
    "print(\"Finit, là.\")"
   ]
  },
  {
   "cell_type": "markdown",
   "metadata": {},
   "source": [
    "L'exemple 2 semble complexe. Mais tout ce que nous avons fait, c'est exécuter une instruction `if` à chaque fois que la boucle `while` s'exécute. Rappelez-vous que `%` signifie simplement le reste d'une division - il s'agit de vérifier qu'il ne reste rien si le nombre est divisé par deux - indiquant qu'il est pair. S'il est pair, le nombre `n` est affiché."
   ]
  },
  {
   "cell_type": "markdown",
   "metadata": {},
   "source": [
    "## 3.5 `else` et `elif` - Quand ce n'est pas Vrai\n",
    "Il existe plusieurs façons d'utiliser l'instruction `if` (si) pour traiter les situations où votre expression booléenne se termine par FAUX. Il s'agit de `else` et `elif`.<br>\n",
    "`else` indique simplement à l'ordinateur ce qu'il faut faire si les conditions de `if` ne sont pas remplies. Par exemple, lisez ce qui suit:"
   ]
  },
  {
   "cell_type": "code",
   "execution_count": null,
   "metadata": {},
   "outputs": [],
   "source": [
    "a = 1\n",
    "if a > 5:\n",
    "    print(\"Ceci ne doit pas arriver.\")\n",
    "else:\n",
    "    print(\"Ceci doit arriver.\")"
   ]
  },
  {
   "cell_type": "markdown",
   "metadata": {},
   "source": [
    "`a` n'est pas supérieur à cinq, donc ce qui est sous `else` est fait.\n",
    "\n",
    "`elif` est une façon abrégée de dire `else if`. Lorsque l'instruction `if`  n'est pas vraie, `elif` fera ce qu'il y a en dessous SI les conditions sont remplies. Par exemple:"
   ]
  },
  {
   "cell_type": "code",
   "execution_count": null,
   "metadata": {},
   "outputs": [],
   "source": [
    "z = 4\n",
    "if z > 70:\n",
    "    print(\"Quelque chose ne va pas du tout\")\n",
    "elif z < 7:\n",
    "    print(\"Cela est normal\")"
   ]
  },
  {
   "cell_type": "markdown",
   "metadata": {},
   "source": [
    "L'instruction `if`, ainsi que `else` et `elif` suivent cette forme:\n",
    "```Python\n",
    "if {conditions}:\n",
    "    {exécuter ce code}\n",
    "elif {conditions}:\n",
    "    {exécuter ce code}\n",
    "elif {conditions}:\n",
    "    {exécuter ce code}\n",
    "else:\n",
    "    {exécuter ce code}\n",
    "#Vous pouvez avoir autant d'instructions elif que vous le souhaitez\n",
    "#De zéro à l'infini.\n",
    "#Vous pouvez avoir au maximum une instruction else\n",
    "#et seulement après tous les autres if et elif.\n",
    "```"
   ]
  },
  {
   "cell_type": "markdown",
   "metadata": {},
   "source": [
    "***Un autre points très important à retenir est que vous DEVEZ avoir un deux-points `:` à la fin de chaque ligne contenant un `if`, `elif`, `else` ou `while`.***"
   ]
  },
  {
   "cell_type": "markdown",
   "metadata": {},
   "source": [
    "## 3.6 Indentation\n",
    "Un autre point est que le code à exécuter si les conditions sont remplies, DOIT ÊTRE INDENTÉ. Cela signifie que si vous voulez passer les cinq lignes suivantes avec une boucle `while`, vous devez mettre un nombre déterminé d'espaces au début de chacune de ces cinq lignes suivantes. Il s'agit d'une bonne pratique de programmation dans n'importe quel langage, mais Python exige que vous le fassiez. Voici un exemple des deux points ci-dessus:"
   ]
  },
  {
   "cell_type": "code",
   "execution_count": null,
   "metadata": {},
   "outputs": [],
   "source": [
    "a = 10\n",
    "while a > 0:\n",
    "    print(a)\n",
    "    if a > 5:\n",
    "        print(\"Grand nombre!\")\n",
    "    elif a % 2 != 0:\n",
    "        print(\"C'est un nombre impair\")\n",
    "        print(\"Il n'est pas supérieur à cinq non plus\")\n",
    "    else:\n",
    "        print(\"ce nombre n'est pas supérieur à 5\")\n",
    "        print(\"il n'est pas non plus impair\")\n",
    "        print(\"semble spécial?\")\n",
    "    a = a - 1\n",
    "    print(\"nous venons de diminuer 'a' d'une unité par rapport à ce qu'il était!\")\n",
    "    print(\"et tant que a est  supérieur à 0, nous referons la boucle.\")\n",
    "print(\"il semble bien que 'a' ne soit plus supérieur à 0!\")\n",
    "print(\"la boucle est maintenant terminée, et sans plus attendre, ce programme l'est aussi!\")"
   ]
  },
  {
   "cell_type": "markdown",
   "metadata": {},
   "source": [
    "Remarquez les trois niveaux d'indentation qui existent:\n",
    "1.\tChaque ligne du premier niveau commence sans espace. C'est le programme principal, qui s'exécutera toujours.\n",
    "2.\tChaque ligne du deuxième niveau commence avec quatre espaces. Lorsqu'il y a un `if` ou une boucle dans le premier niveau, tout ce qui se trouve dans le deuxième niveau après cela sera bouclé/'ifé', jusqu'à ce qu'une nouvelle ligne commence à nouveau dans le premier niveau.\n",
    "3.\tChaque ligne du troisième niveau commence par huit espaces. Lorsqu'il y a un `if` ou une boucle au deuxième niveau, tout ce qui se trouve au troisième niveau après cela sera bouclé/'ifé', jusqu'à ce qu'une nouvelle ligne recommence au deuxième niveau.\n",
    "4.\tCela continue à l'infini, jusqu'à ce que la personne qui écrit le programme ait une explosion cérébrale interne, et ne puisse plus rien comprendre à ce qu'elle a écrit."
   ]
  },
  {
   "cell_type": "markdown",
   "metadata": {},
   "source": [
    "Il existe une autre boucle, appelée boucle 'for', mais nous la couvrirons dans une leçon ultérieure, après avoir appris les lists (listes).\n",
    "## 3.7 Conclusion\n",
    "Et c'est tout pour la leçon 3 ! Dans la leçon 4, nous aborderons l'interaction avec l'utilisateur et l'écriture de programmes qui servent réellement un objectif. J'ai hâte d'y être!"
   ]
  },
  {
   "cell_type": "markdown",
   "metadata": {},
   "source": [
    "< [Programmes dans un fichier, variables and chaine de caractères (string)](PythonIntroCh2_FR.ipynb) | [Contenu](PythonIntro_FR.ipynb) | [Fonctions](PythonIntroCh4_FR.ipynb) >"
   ]
  }
 ],
 "metadata": {
  "kernelspec": {
   "display_name": "Python 3",
   "language": "python",
   "name": "python3"
  },
  "language_info": {
   "codemirror_mode": {
    "name": "ipython",
    "version": 3
   },
   "file_extension": ".py",
   "mimetype": "text/x-python",
   "name": "python",
   "nbconvert_exporter": "python",
   "pygments_lexer": "ipython3",
   "version": "3.6.5"
  }
 },
 "nbformat": 4,
 "nbformat_minor": 2
}
