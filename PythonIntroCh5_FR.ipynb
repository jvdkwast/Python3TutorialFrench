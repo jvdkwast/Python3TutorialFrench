{
 "cells": [
  {
   "cell_type": "markdown",
   "metadata": {},
   "source": [
    "< [Fonctions](PythonIntroCh4_FR.ipynb) | [Contenu](PythonIntro_FR.ipynb) | [Boucle for](PythonIntroCh6_FR.ipynb) >"
   ]
  },
  {
   "cell_type": "markdown",
   "metadata": {},
   "source": [
    "# 5.\tTuples, listes et dictionnaires\n",
    "## 5.1\tIntroduction\n",
    "Votre cerveau souffre encore de la dernière leçon ? Ne vous inquiétez pas, celle-ci vous demandera un peu moins de réflexion. Nous revenons à quelque chose de simple - les variables - mais un peu plus en profondeur.\n",
    "\n",
    "Pensez-y : les variables stockent un élément d'information. Elles peuvent régurgiter (mais pas sur le tapis...) cette information à tout moment, et cette information peut être modifiée à tout moment. Les variables sont parfaites pour ce qu'elles font - stocker un élément d'information qui peut changer au fil du temps.\n",
    "\n",
    "Mais que se passe-t-il si vous avez besoin de stocker une longue liste d'informations qui ne changent pas dans le temps ? Disons, par exemple, les noms des mois de l'année. Ou peut-être une longue liste d'informations qui changent au fil du temps ? Disons, par exemple, les noms de tous vos chats. Vous pouvez avoir de nouveaux chats, certains peuvent mourir, d'autres peuvent devenir votre dîner (nous devrions échanger nos recettes !). Et un annuaire téléphonique ? Pour cela, vous devez faire un peu de référencement - vous auriez une liste de noms et, attaché à chacun de ces noms, un numéro de téléphone. Comment faire ?"
   ]
  },
  {
   "cell_type": "markdown",
   "metadata": {},
   "source": [
    "## 5.2\tLa Solution - Listes, Tuples, et Dictionnaires\n",
    "Pour ces trois problèmes, Python utilise trois solutions différentes : les tuples, les listes et les dictionnaires:\n",
    "* **Listes** sont ce qu'elles semblent être - une liste de valeurs. Chacune d'entre elles est numérotée, en partant de zéro - la première est numérotée zéro, la deuxième 1, la troisième 2, etc. Vous pouvez supprimer des valeurs de la liste et en ajouter de nouvelles à la fin. Exemple : Les noms de vos nombreux chats.\n",
    "* **Tuples** sont comme les listes, mais vous ne pouvez pas changer leurs valeurs. Les valeurs que vous leur donnez au début sont celles avec auxquelles vous êtes tenus pour le reste du programme. Là encore, chaque valeur est numérotée à partir de zéro, pour faciliter la référence. Exemple : les noms des mois de l'année.\n",
    "* **Dictionaries** sont semblables à ce que leur nom suggère - un dictionnaire. Dans un dictionnaire, vous disposez d'un \"index\" de mots et d'une définition pour chacun d'entre eux. En Python, le mot est appelé une \"clé\" et la définition une \"valeur\". Les valeurs d'un dictionnaire ne sont pas numérotées - elles ne sont pas non plus dans un ordre précis – il en est de même pour la clé. Vous pouvez ajouter, supprimer et modifier les valeurs des dictionnaires. Exemple : annuaire téléphonique."
   ]
  },
  {
   "cell_type": "markdown",
   "metadata": {},
   "source": [
    "### 5.2.1 Tuples\n",
    "Les tuples sont assez faciles à créer. Vous donnez un nom à votre tuple, puis la liste des valeurs qu'il portera. Par exemple, les mois de l'année:"
   ]
  },
  {
   "cell_type": "code",
   "execution_count": null,
   "metadata": {},
   "outputs": [],
   "source": [
    "mois = ('Janvier','Février','Mars','Avril','Mai','Juin',\\\n",
    "'Juillet','Août','Septembre','Octobre','Novembre','  Décembre')"
   ]
  },
  {
   "cell_type": "markdown",
   "metadata": {},
   "source": [
    "* Notez que le truc `\\` à la fin de la première ligne entraine cette ligne de code à la ligne suivante. C'est un moyen utile de rendre les grandes lignes plus lisibles.\n",
    "* Techniquement, vous n'êtes pas obligé de mettre ces parenthèses (ces trucs `(` et `)` ) mais cela empêche Python de s'y perdre.\n",
    "* Vous pouvez mettre des espaces après les virgules si vous le jugez nécessaire - cela n'a vraiment pas d'importance"
   ]
  },
  {
   "cell_type": "markdown",
   "metadata": {},
   "source": [
    "Python organise ensuite ces valeurs dans un index pratique et numéroté - en partant de zéro, dans l'ordre dans lequel vous les avez saisies. L’exemple ci-dessus serait organisé de la manière suivante:<br>\n",
    "\n",
    "| Index | Value |\n",
    "| :---: | :---: |\n",
    "| 0 | Janvier |\n",
    "| 1 | Février |\n",
    "| 2 | Mars |\n",
    "| 3 | Avril |\n",
    "| 4 | Mai |\n",
    "| 5 | Juin |\n",
    "| 6 | Jullet |\n",
    "| 7 | Août |\n",
    "| 8 | Septembre |\n",
    "| 9 | Octobre |\n",
    "| 10 | Novembre |\n",
    "| 11 | Décembre |\n",
    "Et voilà pour  les tuples! Vraiment facile..."
   ]
  },
  {
   "cell_type": "markdown",
   "metadata": {},
   "source": [
    "### 5.2.2 Listes\n",
    "Les listes sont très similaires aux tuples. Les listes sont modifiables (ou \"mutables\", comme dirait un programmeur), ce qui signifie que leurs valeurs peuvent être modifiées. La plupart du temps, nous utilisons des listes, et non des tuples, parce que nous voulons changer facilement les valeurs des choses au besoin.\n",
    "\n",
    "Les listes sont définies de manière très similaire aux tuples. Disons que vous avez CINQ chats, appelés Tom, Snappy, Kitty, Jessie et Chester. Pour les placer dans une liste, vous feriez ceci:<br>"
   ]
  },
  {
   "cell_type": "code",
   "execution_count": null,
   "metadata": {},
   "outputs": [],
   "source": [
    "chats = ['Tom', 'Snappy', 'Kitty', 'Jessie', 'Chester']"
   ]
  },
  {
   "cell_type": "markdown",
   "metadata": {},
   "source": [
    "Comme vous le voyez, le code est exactement le même que pour un tuple, SAUF que toutes les valeurs sont placées entre crochets et non entre parenthèses. Encore une fois, il n'est pas nécessaire d'avoir des espaces après la virgule.\n",
    "\n",
    "Vous obtenez les valeurs des listes exactement comme vous le faites avec les tuples. Par exemple, pour afficher le nom de votre troisième chat, vous devez faire ceci:"
   ]
  },
  {
   "cell_type": "code",
   "execution_count": null,
   "metadata": {},
   "outputs": [],
   "source": [
    "print(chats[2])"
   ]
  },
  {
   "cell_type": "markdown",
   "metadata": {},
   "source": [
    "Vous pouvez également obtenir un intervalle, dans l’exemple ci-dessus, par exemple - `chats[0:2]` invoquerait vos 1er et 2ème chats. Essayez-le dans le champ ci-dessus.\n",
    "\n",
    "Là où les listes prennent tout leur sens, c'est dans la façon dont elles peuvent être modifiées. Pour ajouter une valeur à une liste, vous utilisez la fonction `append()`. Disons que vous avez un nouveau chat appelé Catherine. Pour l'ajouter à la liste, vous feriez ceci:"
   ]
  },
  {
   "cell_type": "code",
   "execution_count": null,
   "metadata": {},
   "outputs": [],
   "source": [
    "chats.append('Catherine')"
   ]
  },
  {
   "cell_type": "markdown",
   "metadata": {},
   "source": [
    "Use the field below to check if the cat has been added to the list."
   ]
  },
  {
   "cell_type": "code",
   "execution_count": null,
   "metadata": {},
   "outputs": [],
   "source": []
  },
  {
   "cell_type": "markdown",
   "metadata": {},
   "source": [
    "C'est un peu bizarre, n'est-ce pas ? Je vais vous expliquer. Cette fonction se trouve à un drôle d'endroit - après un point `.` après le nom de la liste. Vous aurez l'occasion de voir ces choses plus en détail dans une prochaine leçon. Pour l'instant, voici la forme de la fonction qui ajoute une nouvelle valeur à une liste:\n",
    "```Python\n",
    "#ajoute une nouvelle valeur à la fin d'une liste :\n",
    "nom_liste.append(valeur-à-ajouter)\n",
    "\n",
    "#Par exemple, pour ajouter le nombre 5038 à la liste 'nombres':\n",
    "nombres.append(5038)\n",
    "```\n",
    "\n",
    "Les choses sont claires? Bien!\n",
    "Maintenant, venons en à une triste situation - Snappy a été abattu par un voisin, et mangé pour leur dîner (bravo à eux !). Vous devez le (ou la) retirer de la liste. Heureusement, il est facile d'éliminer ce regretté chat. Vous devez donc vous complaire dans la tristesse le moins longtemps possible:"
   ]
  },
  {
   "cell_type": "code",
   "execution_count": null,
   "metadata": {},
   "outputs": [],
   "source": [
    "#Supprime ton 2ème chat, Snappy. Pauvre de toi.\n",
    "del chats[1]"
   ]
  },
  {
   "cell_type": "markdown",
   "metadata": {},
   "source": [
    "Vérifiez à nouveau quels chats figurent dans la liste:"
   ]
  },
  {
   "cell_type": "code",
   "execution_count": null,
   "metadata": {},
   "outputs": [],
   "source": []
  },
  {
   "cell_type": "markdown",
   "metadata": {},
   "source": [
    "Vous venez de supprimer le deuxième chat de votre liste - ce pauvre vieux Snappy.\n",
    "Et avec ce message morbide, passons à..."
   ]
  },
  {
   "cell_type": "markdown",
   "metadata": {},
   "source": [
    "### 5.3 Dictionnaires\n",
    "Ok, il y a dans la vie plus que les noms de vos chats. Vous devez appeler votre sœur, votre mère, votre fils, le marchand de fruits, et tous ceux qui ont besoin de savoir que leur chat préféré est mort. Pour cela, vous avez besoin d'un répertoire téléphonique.\n",
    "\n",
    "Les listes que nous avons utilisées ci-dessus ne sont pas vraiment adaptées à un annuaire téléphonique. Vous devez connaître un numéro basé sur le nom d'une personne, et non l'inverse, comme nous l'avons fait avec les chats. Dans les exemples des mois et des chats, nous avons donné un numéro à l'ordinateur, qui nous a donné un nom. Cette fois-ci, nous voulons donner un nom à l'ordinateur, et il nous donne un numéro. Pour cela, nous avons besoin de  *Dictionnaires*.\n",
    "\n",
    "Alors comment créer un dictionnaire ? Rangez votre matériel de reliure, ce n'est pas si compliqué.\n",
    "Rappelez-vous, les dictionnaires ont des clés et des valeurs. Dans un annuaire téléphonique, vous avez les noms des personnes, puis leurs numéros. Vous voyez une similitude?\n",
    "\n",
    "Lorsque vous créez un dictionnaire, cela ressemble beaucoup à la création d'un tuple ou d'une liste. Les Tuples ont des `(` et `)` , les listes ont `[` et `]`. Devinez quoi ! Les dictionnaires ont des `{` et `}` - accolades. Voici un exemple ci-dessous, montrant un dictionnaire contenant quatre numéros de téléphone:"
   ]
  },
  {
   "cell_type": "code",
   "execution_count": null,
   "metadata": {},
   "outputs": [],
   "source": [
    "#Créer le répertoire téléphonique:\n",
    "répertoire = {'Andrew Parson':8806336, \\\n",
    "'Emily Everett':6784346, 'Peter Power':7658344, \\\n",
    "'Lewis Lame':1122345}\n",
    "print(répertoire['Lewis Lame'])"
   ]
  },
  {
   "cell_type": "markdown",
   "metadata": {},
   "source": [
    "Lorsque vous l'exécutez, vous voyez que le numéro de Lewis Lame s’affiche à l'écran. Remarquez qu'au lieu d'identifier la valeur par un nombre, comme dans les exemples des chats et des mois, nous identifions la valeur en utilisant une autre valeur, dans ce cas le nom de la personne.\n",
    "\n",
    "Ok, vous avez créé un nouveau répertoire téléphonique. Maintenant, vous voulez ajouter de nouveaux numéros au répertoire. Que faites-vous ? Une ligne de code très simple:"
   ]
  },
  {
   "cell_type": "code",
   "execution_count": null,
   "metadata": {},
   "outputs": [],
   "source": [
    "#Ajouter la personne 'Gingerbread Man' au répertoire téléphonique:\n",
    "\n",
    "répertoire['Gingerbread Man'] = 1234567\n",
    "\n",
    "# Je ne pensais pas que je vous donnerais\n",
    "# mon vrai numéro maintenant, n'est-ce pas?"
   ]
  },
  {
   "cell_type": "markdown",
   "metadata": {},
   "source": [
    "Tout ce que cette ligne dit, c'est qu'il y a une personne appelée Gingerbread Man dans l'annuaire téléphonique, et que son numéro est `1234567`. En d'autres termes, la clé est `Gingerbread Man`, et la valeur est `1234567`."
   ]
  },
  {
   "cell_type": "markdown",
   "metadata": {},
   "source": [
    "Vérifiez s'il a été ajouté en utilisant le champ ci-dessous."
   ]
  },
  {
   "cell_type": "code",
   "execution_count": null,
   "metadata": {},
   "outputs": [],
   "source": []
  },
  {
   "cell_type": "markdown",
   "metadata": {},
   "source": [
    "Vous supprimez des entrées d’un dictionnaire comme dans une liste. Disons qu'Andrew Parson est votre voisin et qu'il a tué votre chat. Vous ne voulez plus jamais lui parler, et n'avez donc pas besoin de son numéro. Comme dans une liste, vous feriez ceci :"
   ]
  },
  {
   "cell_type": "code",
   "execution_count": null,
   "metadata": {},
   "outputs": [],
   "source": [
    "del répertoire['Andrew Parson']"
   ]
  },
  {
   "cell_type": "markdown",
   "metadata": {},
   "source": [
    "Une fois de plus, c'est très simple. L'opérateur `del` supprime toute fonction, variable, ou entrée dans une liste ou un dictionnaire (Une entrée dans un dictionnaire est juste une variable avec un nombre ou une chaîne de texte comme nom. Cela s'avère pratique plus tard)."
   ]
  },
  {
   "cell_type": "markdown",
   "metadata": {},
   "source": [
    "Vérifiez si le numéro a été supprimé en utilisant le champ ci-dessous.."
   ]
  },
  {
   "cell_type": "code",
   "execution_count": null,
   "metadata": {},
   "outputs": [],
   "source": []
  },
  {
   "cell_type": "markdown",
   "metadata": {},
   "source": [
    "Vous vous souvenez de la fonction append que nous avons utilisée avec la liste ? Eh bien, il y en a pas mal qui peuvent être utilisées avec les dictionnaires. Ci-dessous, je vais vous écrire un programme, et il incorporera certaines de ces fonctions. Il y aura des commentaires tout au long du programme pour expliquer ce qu'il fait. Expérimentez autant que vous le souhaitez ce programme."
   ]
  },
  {
   "cell_type": "code",
   "execution_count": null,
   "metadata": {},
   "outputs": [],
   "source": [
    "#Quelques exemples d'un dictionnaire\n",
    "\n",
    "#D'abord nous définissons le dictionnaire\n",
    "#Il ne contiendra rien cette fois-ci\n",
    "ages = {}\n",
    "\n",
    "#Ajoutez quelques noms au dictionnaire\n",
    "ages['Sue'] = 23\n",
    "ages['Peter'] = 19\n",
    "ages['Andrew'] = 78\n",
    "ages['Karren'] = 45\n",
    "\n",
    "#Utilisez une instruction 'if' pour trouver une clé dans la liste.\n",
    "#Rappelez-vous - c'est ainsi que les instructions 'if' fonctionnent -\n",
    "#eIles s'exécutent si quelque chose est vrai\n",
    "#et ne s’exécutent pas si quelque chose est faux.\n",
    "if 'Sue' in ages:\n",
    "    print(\"Sue est dans le dictionnaire. Elle est agées de\", \\\n",
    "ages['Sue'], \"ans\")\n",
    "\n",
    "else:\n",
    "    print(\"Sue n'est pas dans le dictionnaire\")\n",
    "\n",
    "#Utilisez la fonction keys() - \n",
    "#Cette fonction retourne une liste\n",
    "#de tous les noms de clés.\n",
    "#Exemple.\n",
    "print(\"Les personnes suivantes sont dans le dictionnaire:\")\n",
    "print(ages.keys())\n",
    "\n",
    "#Vous pouvez utiliser cette fonction pour\n",
    "#produire tous les noms de clés dans une liste :\n",
    "clés = ages.keys()\n",
    "\n",
    "#Vous pouvez également obtenir une liste\n",
    "#de toutes les valeurs d'un dictionnaire.\n",
    "#Pour cela, utilisez la fonction values():\n",
    "print(\"Les personnes sont âgées comme suit:\", \\\n",
    "ages.values())\n",
    "\n",
    "#Mettez-le dans une liste:\n",
    "valeurs = ages.values()\n",
    "\n",
    "#Vous pouvez ordonner les listes avec la fonction sorted().\n",
    "#Elle va ordonner toutes les valeurs d'une liste\n",
    "#alphabétiquement, numériquement, etc...\n",
    "#Vous ne pouvez pas ordonner les dictionnaires - \n",
    "#Ils ne sont pas dans un ordre particulier\n",
    "print(clés)\n",
    "clésordonnées = sorted(clés)\n",
    "print(clésordonnées)\n",
    "\n",
    "print(valeurs)\n",
    "valeursordonnées = sorted(valeurs)\n",
    "print(valeursordonnées)\n",
    "\n",
    "#You can find the number of entries\n",
    "#with the len() function:\n",
    "print(\"Le dictionnaire a\", \\\n",
    "len(ages), \"entrées\")"
   ]
  },
  {
   "cell_type": "markdown",
   "metadata": {},
   "source": [
    "## 5.3 Conclusion\n",
    "Il y a beaucoup d'autres fonctions que vous pouvez utiliser pour travailler avec des listes et des dictionnaires - trop nombreuses pour les passer en revue maintenant. Nous allons quitter la leçon à ce stade - vous en avez assez appris pour une leçon."
   ]
  },
  {
   "cell_type": "markdown",
   "metadata": {},
   "source": [
    "< [Fonctions](PythonIntroCh4_FR.ipynb) | [Contenu](PythonIntro_FR.ipynb) | [Boucle for](PythonIntroCh6_FR.ipynb) >"
   ]
  }
 ],
 "metadata": {
  "kernelspec": {
   "display_name": "Python 3",
   "language": "python",
   "name": "python3"
  },
  "language_info": {
   "codemirror_mode": {
    "name": "ipython",
    "version": 3
   },
   "file_extension": ".py",
   "mimetype": "text/x-python",
   "name": "python",
   "nbconvert_exporter": "python",
   "pygments_lexer": "ipython3",
   "version": "3.6.5"
  }
 },
 "nbformat": 4,
 "nbformat_minor": 2
}
